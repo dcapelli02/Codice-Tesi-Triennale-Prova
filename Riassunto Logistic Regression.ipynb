{
 "cells": [
  {
   "cell_type": "markdown",
   "id": "2bc75af7",
   "metadata": {},
   "source": [
    "# Riassunto di quanto fatto finora\n",
    "## Regressione Logistica\n",
    "Partiamo dalla regressione logistica. Importiamo il mio metodo e quello preimplementato su un paio di dataset utili."
   ]
  },
  {
   "cell_type": "code",
   "execution_count": 1,
   "id": "4e99ac0c",
   "metadata": {},
   "outputs": [],
   "source": [
    "from tqdm import tqdm\n",
    "\n",
    "import numpy as np\n",
    "np.random.seed(0)  # keep the random seed of numpy fixed\n",
    "\n",
    "from sklearn import datasets\n",
    "from sklearn.linear_model import LogisticRegression\n",
    "from sklearn.model_selection import train_test_split\n",
    "from sklearn.preprocessing import StandardScaler\n",
    "from sklearn.pipeline import Pipeline\n",
    "from sklearn.inspection import DecisionBoundaryDisplay\n",
    "from time import time\n",
    "\n",
    "import matplotlib as mpl\n",
    "import matplotlib.pyplot as plt\n",
    "from matplotlib.colors import ListedColormap\n",
    "\n",
    "from sklearn.metrics import accuracy_score\n",
    "\n",
    "from sklearn.datasets import make_circles\n",
    "from sklearn.datasets import make_moons\n",
    "from sklearn import datasets\n",
    "from sklearn.datasets import load_wine\n",
    "\n",
    "from sklearn.discriminant_analysis import LinearDiscriminantAnalysis as LDA\n",
    "from sklearn.discriminant_analysis import QuadraticDiscriminantAnalysis as QDA\n",
    "\n",
    "from sklearn.naive_bayes import GaussianNB as GNB\n",
    "\n",
    "# Configure matplotlib\n",
    "mpl.rc('axes', labelsize=14)\n",
    "mpl.rc('xtick', labelsize=12)\n",
    "mpl.rc('ytick', labelsize=12)"
   ]
  },
  {
   "cell_type": "code",
   "execution_count": 2,
   "id": "b3fe59c2",
   "metadata": {},
   "outputs": [],
   "source": [
    "def LogisticRegressionMia(data, labels, n_iter = 1000, tol = 1e-7, insert_interc = True):\n",
    "    \n",
    "    # Proviamo a stampare il tempo\n",
    "    # Prendiamo il tempo iniziale\n",
    "    \n",
    "    t0 = time()\n",
    "    \n",
    "    data_work = data\n",
    "    \n",
    "    # Per prima cosa aggiungiamo la colonna per l'intercetta\n",
    "    if insert_interc:\n",
    "        data_work = np.insert(data_work, 0, 1, axis = 1)\n",
    "    \n",
    "    # Inizialmente proviamo a fissare beta = 0\n",
    "    beta = np.zeros(len(data_work[0, :]))\n",
    "    beta_store = [0]\n",
    "    #print(beta)\n",
    "    \n",
    "    # Poi dobbiamo creare il vettore di fitted probabilities p\n",
    "    p = np.ones(len(labels))\n",
    "    diagonale = np.zeros(len(labels))\n",
    "    \n",
    "    # Ora dobbiamo ripetere queste operazione\n",
    "    for n in range(n_iter):\n",
    "        \n",
    "        # Usiamo i cicli for e poi vediamo di passare allo slicing\n",
    "        for i in range(len(labels)):\n",
    "            h = beta @ data_work[i, :]\n",
    "            elemento = ((np.e)**h) / (1+(np.e)**h)\n",
    "            #print(elemento)\n",
    "            #print(np.e**h / (1+np.e**h))\n",
    "            p[i] = elemento\n",
    "            #print(p[i])\n",
    "            diagonale[i] = p[i]*(1 - p[i])\n",
    "        \n",
    "        #diagonale[:] = p[:]*(1 - p[:])\n",
    "            \n",
    "        #print(p)\n",
    "\n",
    "        # Ora creiamo la matrice W: questa è una prima implementazione grezza,\n",
    "        # vedi coem creare le matrici diagonali\n",
    "        W = np.diagflat(diagonale)\n",
    "        #print(W)\n",
    "\n",
    "        # A questo punto definisco il vettore z\n",
    "        W_inv = np.linalg.inv(W)\n",
    "        z = np.dot(data_work, beta) + np.dot(W_inv, labels-p)\n",
    "\n",
    "        # Ora calcolo il nuovo b\n",
    "        a = np.dot(data_work.T, W)\n",
    "        c = np.dot(a, data_work)\n",
    "        d = np.linalg.inv(c)\n",
    "        f = np.dot(data_work.T, W)\n",
    "        g = np.dot(d, f)\n",
    "        beta = np.dot(g, z)\n",
    "        \n",
    "        beta_store.append(beta)\n",
    "        \n",
    "        if (np.linalg.norm(beta_store[-1] - beta_store[-2]) < tol):\n",
    "            break\n",
    "    \n",
    "    print(f\"Regressione effettuata in: {time() - t0} s.\")\n",
    "        \n",
    "    return beta"
   ]
  },
  {
   "cell_type": "code",
   "execution_count": 3,
   "id": "8d8e2c8f",
   "metadata": {},
   "outputs": [],
   "source": [
    "def compara_lr(data, labels, data_val = None, y_val = None, n_iter = 1000, tol = 1e-7, \n",
    "               insert_interc = True, solver = 'newton-cholesky', penalty = None):\n",
    "    \n",
    "    beta = LogisticRegressionMia(data, labels, n_iter, tol, insert_interc)\n",
    "    print(f\"I coefficienti della mia regressione lineare sono dati da: {beta}\")\n",
    "    \n",
    "    t0 = time()\n",
    "    logreg = LogisticRegression(solver = solver, penalty = penalty).fit(data, labels)\n",
    "    \n",
    "    print(f\"La regressione logistica preimplementata è stata eseguita in: {time() - t0} s\")\n",
    "    \n",
    "    coef_logreg = []\n",
    "    coef_logreg.append(logreg.intercept_[0])\n",
    "    for i in range(len(logreg.coef_[0])):\n",
    "        coef_logreg.append(logreg.coef_[0, i])\n",
    "    \n",
    "    print(f\"I coefficienti della regressione lineare preimplementata sono dati da: {coef_logreg}\")\n",
    "    \n",
    "    return beta, coef_logreg\n",
    "\n"
   ]
  },
  {
   "cell_type": "code",
   "execution_count": 4,
   "id": "1ad35686",
   "metadata": {},
   "outputs": [],
   "source": [
    "# Funzione per predirre la classe, nel caso di due classi\n",
    "\n",
    "def predict(data, coef_model, soglia = 0.5, insert_interc = True):\n",
    "    \n",
    "    t0 = time()\n",
    "    \n",
    "    predict = []\n",
    "    len_feature = len(data[0])\n",
    "    data_work = data\n",
    "    \n",
    "    if insert_interc:\n",
    "        data_work = data_work = np.insert(data_work, 0, 1, axis = 1)\n",
    "        \n",
    "    # Facciamo un ciclo sui dati che possediamo\n",
    "    \n",
    "    for i in range(len(data_work)):\n",
    "        scalare = np.inner(data_work[i], coef_model)\n",
    "        prob = np.e**(scalare) / (1 + np.e**(scalare))\n",
    "        \n",
    "        if (prob <= soglia):\n",
    "            predict.append(0)\n",
    "        else:\n",
    "            predict.append(1)\n",
    "    \n",
    "    print(f\"Predizione mia effettuata in: {time() - t0} s.\")\n",
    "    \n",
    "    return predict"
   ]
  },
  {
   "cell_type": "code",
   "execution_count": 5,
   "id": "ab247d16",
   "metadata": {},
   "outputs": [],
   "source": [
    "# Compariamo le accuratezze\n",
    "\n",
    "def calcola_acc_mia(data, pred_real, coef_model, soglia = 0.5, insert_interc = True):\n",
    "    \n",
    "    y_pred_mia = predict(data, coef_model, soglia = 0.5, insert_interc = True)\n",
    "    acc_mia = accuracy_score(pred_real, y_pred_mia)\n",
    "    \n",
    "    print(f\"Accuratezza della mia predizione: {acc_mia}\")\n",
    "    "
   ]
  },
  {
   "cell_type": "code",
   "execution_count": 6,
   "id": "7ede7a6c",
   "metadata": {},
   "outputs": [
    {
     "data": {
      "image/png": "[encoded data removed]",
      "text/plain": [
       "<Figure size 576x576 with 1 Axes>"
      ]
     },
     "metadata": {
      "needs_background": "light"
     },
     "output_type": "display_data"
    }
   ],
   "source": [
    "X_cluster, y_cluster = datasets.make_classification(n_samples=1000,\n",
    "                                                    n_features=2,\n",
    "                                                    n_redundant=0,\n",
    "                                                    n_informative=2,\n",
    "                                                    n_repeated=0,\n",
    "                                                    n_clusters_per_class=1,\n",
    "                                                    flip_y=0.1,\n",
    "                                                    random_state=15,\n",
    "                                                    )\n",
    "# scale the data\n",
    "scaler = StandardScaler()\n",
    "X_cluster = scaler.fit_transform(X_cluster)\n",
    "\n",
    "plt.figure(figsize=(8, 8))\n",
    "plt.plot(X_cluster[:, 0][y_cluster == 0], X_cluster[:, 1][y_cluster == 0], \"bs\")\n",
    "plt.plot(X_cluster[:, 0][y_cluster == 1], X_cluster[:, 1][y_cluster == 1], \"g^\")\n",
    "plt.xlabel(r\"$x_1$\", fontsize=14)\n",
    "plt.ylabel(r\"$x_2$\", fontsize=14, rotation=0)\n",
    "plt.show()"
   ]
  },
  {
   "cell_type": "code",
   "execution_count": 7,
   "id": "8c24cf26",
   "metadata": {},
   "outputs": [
    {
     "name": "stdout",
     "output_type": "stream",
     "text": [
      "Regressione effettuata in: 0.11675667762756348 s.\n",
      "I coefficienti della mia regressione lineare sono dati da: [ 0.23859315  3.86576226 -2.79345758]\n",
      "La regressione logistica preimplementata è stata eseguita in: 0.0023279190063476562 s\n",
      "I coefficienti della regressione lineare preimplementata sono dati da: [0.23858910199228564, 3.8657556025013182, -2.7934507622780633]\n"
     ]
    }
   ],
   "source": [
    "# Per prima cosa dividiamo in training e validation set\n",
    "\n",
    "X_cluster_train, X_cluster_val, y_cluster_train, y_cluster_val = train_test_split(X_cluster,\n",
    "                                                                                  y_cluster, \n",
    "                                                                                  train_size = 0.7)\n",
    "\n",
    "beta_cluster, coef_cluster = compara_lr(X_cluster_train, y_cluster_train)"
   ]
  },
  {
   "cell_type": "markdown",
   "id": "a1c99253",
   "metadata": {},
   "source": [
    "Direi che i risultati sono molto buoni. Proviamo ora a vedere come è l'accuratezza. Dovrei scrivere una funzione che assegna a ognuno dei dati il label corretto."
   ]
  },
  {
   "cell_type": "code",
   "execution_count": 8,
   "id": "89377b7e",
   "metadata": {},
   "outputs": [
    {
     "name": "stdout",
     "output_type": "stream",
     "text": [
      "Predizione mia effettuata in: 0.0010709762573242188 s.\n",
      "Accuratezza della mia predizione: 0.9433333333333334\n",
      "Accuratezza della predizione preimplementata: 0.9433333333333334\n"
     ]
    }
   ],
   "source": [
    "calcola_acc_mia(X_cluster_val, y_cluster_val, beta_cluster)\n",
    "\n",
    "logreg_cluster = LogisticRegression(solver = 'newton-cholesky', penalty = None).fit(X_cluster_train, y_cluster_train)\n",
    "y_cluster_pred = logreg_cluster.predict(X_cluster_val)\n",
    "acc_cluster = accuracy_score(y_cluster_val, y_cluster_pred)\n",
    "print(f\"Accuratezza della predizione preimplementata: {acc_cluster}\")"
   ]
  },
  {
   "cell_type": "code",
   "execution_count": null,
   "id": "b577a08f",
   "metadata": {},
   "outputs": [],
   "source": []
  }
 ],
 "metadata": {
  "kernelspec": {
   "display_name": "Python 3 (ipykernel)",
   "language": "python",
   "name": "python3"
  },
  "language_info": {
   "codemirror_mode": {
    "name": "ipython",
    "version": 3
   },
   "file_extension": ".py",
   "mimetype": "text/x-python",
   "name": "python",
   "nbconvert_exporter": "python",
   "pygments_lexer": "ipython3",
   "version": "3.9.12"
  }
 },
 "nbformat": 4,
 "nbformat_minor": 5
}
